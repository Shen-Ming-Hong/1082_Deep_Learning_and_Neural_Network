{
 "cells": [
  {
   "cell_type": "markdown",
   "metadata": {},
   "source": [
    "# NTUT DRL Homework 2: CarRacing\n",
    "\n",
    "CarRacing is the continuous control task learning from pixels, a top-down racing environment. State consists of 96x96 pixels. Reward is -0.1 every frame and +1000/N for every track tile visited, where N is the total number of tiles in track. For example, if you have finished in 732 frames, your reward is 1000 - 0.1*732 = 926.8 points. CarRacing-v0 defines \"solving\" as getting average reward of 900 over 100 consecutive trials.\n",
    "This example notebook refers to the github:\n",
    "\n",
    "https://github.com/Rafael1s/Deep-Reinforcement-Learning-Udacity/tree/master/CarRacing-From-Pixels-PPO"
   ]
  },
  {
   "cell_type": "markdown",
   "metadata": {},
   "source": [
    "### Install video rendering dependancies, which takes around 45 seconds"
   ]
  },
  {
   "cell_type": "code",
   "execution_count": 1,
   "metadata": {
    "_cell_guid": "79c7e3d0-c299-4dcb-8224-4455121ee9b0",
    "_uuid": "d629ff2d2480ee46fbb7e2d37f6b5fab8052498a"
   },
   "outputs": [
    {
     "name": "stdout",
     "output_type": "stream",
     "text": [
      "2.1.0\n",
      "WARNING:tensorflow:From <ipython-input-1-b13844a48d47>:7: is_gpu_available (from tensorflow.python.framework.test_util) is deprecated and will be removed in a future version.\n",
      "Instructions for updating:\n",
      "Use `tf.config.list_physical_devices('GPU')` instead.\n",
      "True\n"
     ]
    }
   ],
   "source": [
    "#remove \" > /dev/null 2>&1\" to see what is going on under the hood\n",
    "# !pip install gym pyvirtualdisplay > /dev/null 2>&1\n",
    "# !apt-get update  > /dev/null 2>&1\n",
    "# !apt-get install -y xvfb python-opengl ffmpeg  > /dev/null 2>&1\n",
    "import tensorflow as tf\n",
    "print(tf.__version__)\n",
    "print(tf.test.is_gpu_available())"
   ]
  },
  {
   "cell_type": "code",
   "execution_count": 2,
   "metadata": {},
   "outputs": [],
   "source": [
    "import gym\n",
    "from gym import logger as gymlogger\n",
    "from gym.wrappers import Monitor\n",
    "gymlogger.set_level(40) #error only\n",
    "import tensorflow as tf\n",
    "import numpy as np\n",
    "import random\n",
    "import matplotlib\n",
    "import matplotlib.pyplot as plt\n",
    "%matplotlib inline\n",
    "import math\n",
    "import glob\n",
    "import io\n",
    "import base64\n",
    "from IPython.display import HTML\n",
    "from IPython import display as ipythondisplay"
   ]
  },
  {
   "cell_type": "code",
   "execution_count": 3,
   "metadata": {},
   "outputs": [],
   "source": [
    "# from pyvirtualdisplay import Display\n",
    "# display = Display(visible=0, size=(1400, 900))\n",
    "# display.start()"
   ]
  },
  {
   "cell_type": "code",
   "execution_count": 3,
   "outputs": [],
   "source": [],
   "metadata": {
    "collapsed": false,
    "pycharm": {
     "name": "#%%\n"
    }
   }
  },
  {
   "cell_type": "code",
   "execution_count": 4,
   "metadata": {},
   "outputs": [],
   "source": [
    "### Video Display Functions"
   ]
  },
  {
   "cell_type": "markdown",
   "metadata": {},
   "source": [
    "### Video Display Functions"
   ]
  },
  {
   "cell_type": "code",
   "execution_count": 5,
   "metadata": {},
   "outputs": [],
   "source": [
    "def show_video():\n",
    "  mp4list = glob.glob('video/*.mp4')\n",
    "  if len(mp4list) > 0:\n",
    "    mp4 = mp4list[0]\n",
    "    video = io.open(mp4, 'r+b').read()\n",
    "    encoded = base64.b64encode(video)\n",
    "    ipythondisplay.display(HTML(data='''<video alt=\"test\" autoplay \n",
    "                loop controls style=\"height: 400px;\">\n",
    "                <source src=\"data:video/mp4;base64,{0}\" type=\"video/mp4\" />\n",
    "             </video>'''.format(encoded.decode('ascii'))))\n",
    "  else: \n",
    "    print(\"Could not find video\")\n",
    "    \n",
    "\n",
    "def wrap_env(env):\n",
    "  env = Monitor(env, './video', force=True)\n",
    "  return env"
   ]
  },
  {
   "cell_type": "code",
   "execution_count": 6,
   "metadata": {},
   "outputs": [],
   "source": [
    "# Install CarRacing environment (in Box2D)\n",
    "# !pip install Box2D"
   ]
  },
  {
   "cell_type": "code",
   "execution_count": 7,
   "metadata": {},
   "outputs": [],
   "source": [
    "env = wrap_env(gym.make(\"CarRacing-v0\"))"
   ]
  },
  {
   "cell_type": "code",
   "execution_count": 8,
   "metadata": {},
   "outputs": [
    {
     "name": "stdout",
     "output_type": "stream",
     "text": [
      "Track generation: 1103..1387 -> 284-tiles track\n",
      "retry to generate track (normal if there are not many of this messages)\n",
      "Track generation: 1013..1270 -> 257-tiles track\n"
     ]
    }
   ],
   "source": [
    "# Test Environment and Show Videos\n",
    "observation = env.reset()\n",
    "# while True:\n",
    "#     env.render()\n",
    "#     action = env.action_space.sample()\n",
    "#     observation, reward, done, info = env.step(action)\n",
    "#     if done:\n",
    "#       break;\n",
    "# env.close()\n",
    "# show_video()"
   ]
  },
  {
   "cell_type": "code",
   "execution_count": 9,
   "metadata": {},
   "outputs": [],
   "source": [
    "# Import Pytorch\n",
    "import torch\n",
    "import torch.nn as nn\n",
    "import torch.nn.functional as F\n",
    "import torch.optim as optim\n",
    "from torch.distributions import Beta\n",
    "from torch.utils.data.sampler import BatchSampler, SubsetRandomSampler\n",
    "import time\n",
    "from collections import deque"
   ]
  },
  {
   "cell_type": "code",
   "execution_count": 10,
   "metadata": {},
   "outputs": [],
   "source": [
    "class Net(nn.Module):\n",
    "    \"\"\"\n",
    "    Convolutional Neural Network for PPO\n",
    "    \"\"\"\n",
    "\n",
    "    def __init__(self, img_stack):\n",
    "        super(Net, self).__init__()\n",
    "        self.cnn_base = nn.Sequential(  # input shape (4, 96, 96)\n",
    "            nn.Conv2d(img_stack, 8, kernel_size=4, stride=2),\n",
    "            nn.ReLU(),  # activation\n",
    "            nn.Conv2d(8, 16, kernel_size=3, stride=2),  # (8, 47, 47)\n",
    "            nn.ReLU(),  # activation\n",
    "            nn.Conv2d(16, 32, kernel_size=3, stride=2),  # (16, 23, 23)\n",
    "            nn.ReLU(),  # activation\n",
    "            nn.Conv2d(32, 64, kernel_size=3, stride=2),  # (32, 11, 11)\n",
    "            nn.ReLU(),  # activation\n",
    "            nn.Conv2d(64, 128, kernel_size=3, stride=1),  # (64, 5, 5)\n",
    "            nn.ReLU(),  # activation\n",
    "            nn.Conv2d(128, 256, kernel_size=3, stride=1),  # (128, 3, 3)\n",
    "            nn.ReLU(),  # activation\n",
    "        )  # output shape (256, 1, 1)\n",
    "        self.v = nn.Sequential(nn.Linear(256, 100), nn.ReLU(), nn.Linear(100, 1))\n",
    "        self.fc = nn.Sequential(nn.Linear(256, 100), nn.ReLU())\n",
    "        self.alpha_head = nn.Sequential(nn.Linear(100, 3), nn.Softplus())\n",
    "        self.beta_head = nn.Sequential(nn.Linear(100, 3), nn.Softplus())\n",
    "        self.apply(self._weights_init)\n",
    "\n",
    "    @staticmethod\n",
    "    def _weights_init(m):\n",
    "        if isinstance(m, nn.Conv2d):\n",
    "            nn.init.xavier_uniform_(m.weight, gain=nn.init.calculate_gain('relu'))\n",
    "            nn.init.constant_(m.bias, 0.1)\n",
    "\n",
    "    def forward(self, x):\n",
    "        x = self.cnn_base(x)\n",
    "        x = x.view(-1, 256)\n",
    "        v = self.v(x)\n",
    "        x = self.fc(x)\n",
    "        alpha = self.alpha_head(x) + 1\n",
    "        beta = self.beta_head(x) + 1\n",
    "\n",
    "        return (alpha, beta), v"
   ]
  },
  {
   "cell_type": "code",
   "execution_count": 11,
   "metadata": {},
   "outputs": [],
   "source": [
    "img_stack=4\n",
    "\n",
    "transition = np.dtype([('s', np.float64, (img_stack, 96, 96)), \n",
    "                       ('a', np.float64, (3,)), ('a_logp', np.float64),\n",
    "                       ('r', np.float64), ('s_', np.float64, (img_stack, 96, 96))])\n",
    "\n",
    "GAMMA=0.99\n",
    "EPOCH= 8 # beter than 10\n",
    "MAX_SIZE = 2000 ## CUDA out of mem for max_size=10000\n",
    "BATCH=128\n",
    "EPS=0.1\n",
    "LEARNING_RATE = 0.00025 # bettr than 0.005 or 0.002\n",
    "\n",
    "class Agent():\n",
    "    \"\"\" Agent for training \"\"\"\n",
    "    \n",
    "    def __init__(self, device):\n",
    "        self.training_step = 0\n",
    "        self.net = Net(img_stack).double().to(device)\n",
    "        self.buffer = np.empty(MAX_SIZE, dtype=transition)\n",
    "        self.counter = 0\n",
    "        self.device = device\n",
    "        \n",
    "        self.optimizer = optim.Adam(self.net.parameters(), lr=LEARNING_RATE)  ## lr=1e-3\n",
    "\n",
    "    def select_action(self, state):\n",
    "        state = torch.from_numpy(state).double().to(self.device).unsqueeze(0)\n",
    "        \n",
    "        with torch.no_grad():\n",
    "            alpha, beta = self.net(state)[0]\n",
    "        dist = Beta(alpha, beta)\n",
    "        action = dist.sample()\n",
    "        a_logp = dist.log_prob(action).sum(dim=1)\n",
    "\n",
    "        action = action.squeeze().cpu().numpy()\n",
    "        a_logp = a_logp.item()\n",
    "        return action, a_logp\n",
    "\n",
    "\n",
    "    def store(self, transition):\n",
    "        self.buffer[self.counter] = transition\n",
    "        self.counter += 1\n",
    "        if self.counter == MAX_SIZE:\n",
    "            self.counter = 0\n",
    "            return True\n",
    "        else:\n",
    "            return False\n",
    "\n",
    "    def update(self):\n",
    "        self.training_step += 1\n",
    "\n",
    "        s = torch.tensor(self.buffer['s'], dtype=torch.double).to(self.device)\n",
    "        a = torch.tensor(self.buffer['a'], dtype=torch.double).to(self.device)\n",
    "        r = torch.tensor(self.buffer['r'], dtype=torch.double).to(self.device).view(-1, 1)\n",
    "        next_s = torch.tensor(self.buffer['s_'], dtype=torch.double).to(self.device)\n",
    "\n",
    "        old_a_logp = torch.tensor(self.buffer['a_logp'], dtype=torch.double).to(self.device).view(-1, 1)\n",
    "\n",
    "        with torch.no_grad():\n",
    "            target_v = r + GAMMA * self.net(next_s)[1]\n",
    "            adv = target_v - self.net(s)[1]\n",
    "            # adv = (adv - adv.mean()) / (adv.std() + 1e-8)\n",
    "\n",
    "        for _ in range(EPOCH):\n",
    "            for index in BatchSampler(SubsetRandomSampler(range(MAX_SIZE)), BATCH, False):\n",
    "\n",
    "                alpha, beta = self.net(s[index])[0]\n",
    "                dist = Beta(alpha, beta)\n",
    "                a_logp = dist.log_prob(a[index]).sum(dim=1, keepdim=True)\n",
    "                ratio = torch.exp(a_logp - old_a_logp[index])\n",
    "\n",
    "                surr1 = ratio * adv[index]\n",
    "                \n",
    "                # clipped function\n",
    "                surr2 = torch.clamp(ratio, 1.0 - EPS, 1.0 + EPS) * adv[index]\n",
    "                action_loss = -torch.min(surr1, surr2).mean()\n",
    "                value_loss = F.smooth_l1_loss(self.net(s[index])[1], target_v[index])\n",
    "                loss = action_loss + 2. * value_loss\n",
    "\n",
    "                self.optimizer.zero_grad()\n",
    "                loss.backward()\n",
    "                self.optimizer.step()"
   ]
  },
  {
   "cell_type": "markdown",
   "metadata": {},
   "source": [
    "### Initializing Training Environment"
   ]
  },
  {
   "cell_type": "code",
   "execution_count": 12,
   "metadata": {},
   "outputs": [
    {
     "name": "stdout",
     "output_type": "stream",
     "text": [
      "device:  cuda\n",
      "env.action_space.shape:  (3,)\n",
      "reward_threshold 900\n"
     ]
    }
   ],
   "source": [
    "# Initializing Training Environment\n",
    "device = torch.device(\"cuda\" if torch.cuda.is_available() else \"cpu\")\n",
    "print('device: ', device)\n",
    "\n",
    "seed = 0 \n",
    "torch.manual_seed(seed)\n",
    "torch.cuda.manual_seed(seed)\n",
    "np.random.seed(seed)\n",
    "\n",
    "action_repeat = 10\n",
    "env = gym.make('CarRacing-v0', verbose=0)\n",
    "state = env.reset()\n",
    "print('env.action_space.shape: ', env.action_space.shape)\n",
    "reward_threshold = env.spec.reward_threshold\n",
    "print('reward_threshold', reward_threshold)"
   ]
  },
  {
   "cell_type": "markdown",
   "metadata": {},
   "source": [
    "### Preprocessing CarRacing Screenshots"
   ]
  },
  {
   "cell_type": "code",
   "execution_count": 13,
   "metadata": {},
   "outputs": [
    {
     "name": "stdout",
     "output_type": "stream",
     "text": [
      "frame.shape:  (96, 96, 3)\n",
      "img.shape:  (96, 96)\n"
     ]
    },
    {
     "data": {
      "text/plain": "<Figure size 432x288 with 2 Axes>",
      "image/png": "[encoded data removed]"
     },
     "metadata": {
      "needs_background": "light"
     },
     "output_type": "display_data"
    }
   ],
   "source": [
    "# show what a preprocessed image looks like\n",
    "frame, _, _, _ = env.step(np.array([2., 1., 1.]))\n",
    "\n",
    "print('frame.shape: ', frame.shape)\n",
    "plt.subplot(1,2,1)\n",
    "plt.imshow(frame)\n",
    "plt.title('original image')\n",
    "\n",
    "#-------------------------------#\n",
    "\n",
    "def rgb2gray(rgb, norm=True):\n",
    "        # rgb image -> gray [0, 1]\n",
    "    gray = np.dot(rgb[..., :], [0.299, 0.587, 0.114])\n",
    "    if norm:\n",
    "        # normalize\n",
    "        gray = gray / 128. - 1.\n",
    "    return gray\n",
    "\n",
    "img_gray = rgb2gray(frame)\n",
    "\n",
    "#-------------------------------# \n",
    "plt.subplot(1,2,2)\n",
    "plt.title('preprocessed image')\n",
    "\n",
    "print('img.shape: ', img_gray.shape)\n",
    "\n",
    "# 96 x 96 black and white image\n",
    "plt.imshow(img_gray, cmap='Greys')\n",
    "plt.show()"
   ]
  },
  {
   "cell_type": "markdown",
   "metadata": {},
   "source": [
    "### Define Wrapper for Our Environment"
   ]
  },
  {
   "cell_type": "code",
   "execution_count": 14,
   "metadata": {},
   "outputs": [],
   "source": [
    "class Wrapper():\n",
    "    \"\"\"\n",
    "    Environment wrapper for CarRacing \n",
    "    \"\"\"\n",
    "\n",
    "    def __init__(self, env):\n",
    "        self.env = env  \n",
    "\n",
    "    def reset(self):\n",
    "        self.counter = 0\n",
    "        self.av_r = self.reward_memory()\n",
    "\n",
    "        self.die = False\n",
    "        img_rgb = env.reset()\n",
    "        img_gray = rgb2gray(img_rgb)\n",
    "        self.stack = [img_gray] * img_stack  # four frames for decision\n",
    "        return np.array(self.stack)\n",
    "\n",
    "    def step(self, action):\n",
    "        total_reward = 0\n",
    "        for i in range(action_repeat):\n",
    "            img_rgb, reward, die, _ = env.step(action)\n",
    "            # don't penalize \"die state\"\n",
    "            if die:\n",
    "                reward += 100\n",
    "            # green penalty\n",
    "            if np.mean(img_rgb[:, :, 1]) > 185.0:\n",
    "                reward -= 0.05\n",
    "            total_reward += reward\n",
    "            # if no reward recently, end the episode\n",
    "            done = True if self.av_r(reward) <= -0.1 else False\n",
    "            if done or die:\n",
    "                break\n",
    "        img_gray = rgb2gray(img_rgb)\n",
    "        self.stack.pop(0)\n",
    "        self.stack.append(img_gray)\n",
    "        assert len(self.stack) == img_stack\n",
    "        return np.array(self.stack), total_reward, done, die\n",
    "\n",
    "\n",
    "    @staticmethod\n",
    "    def reward_memory():\n",
    "        # record reward for last 100 steps\n",
    "        count = 0\n",
    "        length = 100\n",
    "        history = np.zeros(length)\n",
    "\n",
    "        def memory(reward):\n",
    "            nonlocal count\n",
    "            history[count] = reward\n",
    "            count = (count + 1) % length\n",
    "            return np.mean(history)\n",
    "\n",
    "        return memory"
   ]
  },
  {
   "cell_type": "code",
   "execution_count": 15,
   "metadata": {},
   "outputs": [],
   "source": [
    "def save(agent, directory, filename, suffix):\n",
    "    torch.save(agent.net.state_dict(), '%s/%s_%s.pth' % (directory, filename, suffix))"
   ]
  },
  {
   "cell_type": "code",
   "execution_count": 16,
   "metadata": {},
   "outputs": [],
   "source": [
    "def ppo_train(n_episodes=500, save_every=100):\n",
    "    \n",
    "    scores_deque = deque(maxlen=100)\n",
    "    scores_array = []\n",
    "    avg_scores_array = []    \n",
    "\n",
    "    timestep_after_last_save = 0\n",
    "    \n",
    "    time_start = time.time()\n",
    "\n",
    "    running_score = 0\n",
    "    state = env_wrap.reset()\n",
    "    \n",
    "    i_lim = 0\n",
    "    \n",
    "    for i_episode in range(n_episodes):\n",
    "        \n",
    "        timestep = 0\n",
    "        total_reward = 0\n",
    "        \n",
    "        ## score = 0\n",
    "        state = env_wrap.reset()\n",
    "\n",
    "        while True:    \n",
    "            \n",
    "            action, a_logp = agent.select_action(state)\n",
    "            next_state, reward, done, die = env_wrap.step( \n",
    "                action * np.array([2., 1., 1.]) + np.array([-1., 0., 0.]))\n",
    "\n",
    "            if agent.store((state, action, a_logp, reward, next_state)):\n",
    "                print('updating')\n",
    "                agent.update()\n",
    "            \n",
    "            total_reward += reward\n",
    "            state = next_state\n",
    "            \n",
    "            timestep += 1  \n",
    "            timestep_after_last_save += 1\n",
    "            \n",
    "            if done or die:\n",
    "                break\n",
    "                \n",
    "        running_score = running_score * 0.99 + total_reward * 0.01\n",
    "\n",
    "        scores_deque.append(total_reward)\n",
    "        scores_array.append(total_reward)\n",
    "\n",
    "        avg_score = np.mean(scores_deque)\n",
    "        avg_scores_array.append(avg_score)\n",
    "        \n",
    "        s = (int)(time.time() - time_start)        \n",
    "        print('Ep. {}, Ep.Timesteps {}, Score: {:.2f}, Avg.Score: {:.2f}, Run.Score {:.2f}, \\\n",
    "Time: {:02}:{:02}:{:02} '\\\n",
    "            .format(i_episode, timestep, \\\n",
    "                    total_reward, avg_score, running_score, s//3600, s%3600//60, s%60))  \n",
    "       \n",
    "        \n",
    "        # Save episode is equal to \"save_every\" timesteps\n",
    "        if (i_episode+1) % save_every == 0:\n",
    "\n",
    "            suf = str(i_episode)\n",
    "            save(agent, '', 'model_weights', suf)\n",
    "            \n",
    "        if np.mean(scores_deque) > reward_threshold:\n",
    "            print(\"Solved environment! Running score is {:.2f}, Avg.Score: {:.2f} !\" \\\n",
    "                  .format(running_score, avg_score))\n",
    "            break\n",
    "            \n",
    "    return scores_array, avg_scores_array    \n",
    "            \n"
   ]
  },
  {
   "cell_type": "markdown",
   "metadata": {},
   "source": [
    "### Training Agent"
   ]
  },
  {
   "cell_type": "code",
   "execution_count": 17,
   "metadata": {},
   "outputs": [
    {
     "name": "stdout",
     "output_type": "stream",
     "text": [
      "Ep. 0, Ep.Timesteps 93, Score: -17.90, Avg.Score: -17.90, Run.Score -0.18, Time: 00:00:16 \n",
      "Ep. 1, Ep.Timesteps 82, Score: -28.19, Avg.Score: -23.04, Run.Score -0.46, Time: 00:00:30 \n",
      "Ep. 2, Ep.Timesteps 87, Score: -13.47, Avg.Score: -19.85, Run.Score -0.59, Time: 00:00:43 \n",
      "Ep. 3, Ep.Timesteps 100, Score: 82.32, Avg.Score: 5.69, Run.Score 0.24, Time: 00:00:57 \n",
      "Ep. 4, Ep.Timesteps 100, Score: 94.34, Avg.Score: 23.42, Run.Score 1.18, Time: 00:01:10 \n",
      "Ep. 5, Ep.Timesteps 82, Score: -18.01, Avg.Score: 16.52, Run.Score 0.99, Time: 00:01:21 \n",
      "Ep. 6, Ep.Timesteps 100, Score: 91.80, Avg.Score: 27.27, Run.Score 1.90, Time: 00:01:36 \n",
      "Ep. 7, Ep.Timesteps 93, Score: -17.92, Avg.Score: 21.62, Run.Score 1.70, Time: 00:01:50 \n",
      "Ep. 8, Ep.Timesteps 91, Score: -17.94, Avg.Score: 17.23, Run.Score 1.50, Time: 00:02:03 \n",
      "Ep. 9, Ep.Timesteps 100, Score: 78.43, Avg.Score: 23.35, Run.Score 2.27, Time: 00:02:18 \n",
      "Ep. 10, Ep.Timesteps 92, Score: -17.97, Avg.Score: 19.59, Run.Score 2.07, Time: 00:02:31 \n",
      "Ep. 11, Ep.Timesteps 89, Score: -17.97, Avg.Score: 16.46, Run.Score 1.87, Time: 00:02:44 \n",
      "Ep. 12, Ep.Timesteps 89, Score: -17.98, Avg.Score: 13.81, Run.Score 1.67, Time: 00:02:57 \n",
      "Ep. 13, Ep.Timesteps 91, Score: -17.88, Avg.Score: 11.55, Run.Score 1.48, Time: 00:03:11 \n",
      "Ep. 14, Ep.Timesteps 100, Score: -17.94, Avg.Score: 9.58, Run.Score 1.28, Time: 00:03:26 \n",
      "Ep. 15, Ep.Timesteps 100, Score: 79.04, Avg.Score: 13.92, Run.Score 2.06, Time: 00:03:40 \n",
      "Ep. 16, Ep.Timesteps 100, Score: 87.72, Avg.Score: 18.26, Run.Score 2.92, Time: 00:03:55 \n",
      "Ep. 17, Ep.Timesteps 95, Score: -23.50, Avg.Score: 15.94, Run.Score 2.65, Time: 00:04:11 \n",
      "Ep. 18, Ep.Timesteps 82, Score: -23.12, Avg.Score: 13.89, Run.Score 2.39, Time: 00:04:24 \n",
      "Ep. 19, Ep.Timesteps 100, Score: 83.06, Avg.Score: 17.35, Run.Score 3.20, Time: 00:04:37 \n",
      "Ep. 20, Ep.Timesteps 100, Score: 82.19, Avg.Score: 20.43, Run.Score 3.99, Time: 00:04:49 \n",
      "updating\n",
      "Ep. 21, Ep.Timesteps 90, Score: -18.04, Avg.Score: 18.69, Run.Score 3.77, Time: 00:05:26 \n",
      "Ep. 22, Ep.Timesteps 95, Score: -21.75, Avg.Score: 16.93, Run.Score 3.51, Time: 00:05:38 \n",
      "Ep. 23, Ep.Timesteps 99, Score: -19.86, Avg.Score: 15.39, Run.Score 3.28, Time: 00:05:51 \n",
      "Ep. 24, Ep.Timesteps 100, Score: 91.22, Avg.Score: 18.43, Run.Score 4.16, Time: 00:06:03 \n",
      "Ep. 25, Ep.Timesteps 91, Score: -23.53, Avg.Score: 16.81, Run.Score 3.88, Time: 00:06:15 \n",
      "Ep. 26, Ep.Timesteps 88, Score: -17.86, Avg.Score: 15.53, Run.Score 3.67, Time: 00:06:25 \n",
      "Ep. 27, Ep.Timesteps 100, Score: 82.35, Avg.Score: 17.92, Run.Score 4.45, Time: 00:06:37 \n",
      "Ep. 28, Ep.Timesteps 85, Score: -17.95, Avg.Score: 16.68, Run.Score 4.23, Time: 00:06:47 \n",
      "Ep. 29, Ep.Timesteps 92, Score: -21.99, Avg.Score: 15.39, Run.Score 3.97, Time: 00:06:58 \n",
      "Ep. 30, Ep.Timesteps 96, Score: -17.93, Avg.Score: 14.31, Run.Score 3.75, Time: 00:07:11 \n",
      "Ep. 31, Ep.Timesteps 87, Score: -0.04, Avg.Score: 13.87, Run.Score 3.71, Time: 00:07:21 \n",
      "Ep. 32, Ep.Timesteps 87, Score: -18.21, Avg.Score: 12.89, Run.Score 3.49, Time: 00:07:32 \n",
      "Ep. 33, Ep.Timesteps 93, Score: -17.97, Avg.Score: 11.99, Run.Score 3.28, Time: 00:07:43 \n",
      "Ep. 34, Ep.Timesteps 83, Score: -18.01, Avg.Score: 11.13, Run.Score 3.06, Time: 00:07:53 \n",
      "Ep. 35, Ep.Timesteps 86, Score: -18.08, Avg.Score: 10.32, Run.Score 2.85, Time: 00:08:03 \n",
      "Ep. 36, Ep.Timesteps 89, Score: -17.92, Avg.Score: 9.55, Run.Score 2.64, Time: 00:08:19 \n",
      "Ep. 37, Ep.Timesteps 99, Score: -34.46, Avg.Score: 8.40, Run.Score 2.27, Time: 00:08:33 \n",
      "Ep. 38, Ep.Timesteps 93, Score: -29.91, Avg.Score: 7.41, Run.Score 1.95, Time: 00:08:45 \n",
      "Ep. 39, Ep.Timesteps 100, Score: -16.94, Avg.Score: 6.81, Run.Score 1.76, Time: 00:08:56 \n",
      "Ep. 40, Ep.Timesteps 99, Score: -18.10, Avg.Score: 6.20, Run.Score 1.56, Time: 00:09:08 \n",
      "Ep. 41, Ep.Timesteps 76, Score: -3.06, Avg.Score: 5.98, Run.Score 1.52, Time: 00:09:17 \n",
      "Ep. 42, Ep.Timesteps 95, Score: -19.87, Avg.Score: 5.38, Run.Score 1.30, Time: 00:09:29 \n",
      "updating\n",
      "Ep. 43, Ep.Timesteps 89, Score: -24.91, Avg.Score: 4.69, Run.Score 1.04, Time: 00:10:05 \n",
      "Ep. 44, Ep.Timesteps 84, Score: -18.48, Avg.Score: 4.17, Run.Score 0.85, Time: 00:10:16 \n",
      "Ep. 45, Ep.Timesteps 98, Score: -22.06, Avg.Score: 3.60, Run.Score 0.62, Time: 00:10:28 \n",
      "Ep. 46, Ep.Timesteps 86, Score: -17.88, Avg.Score: 3.15, Run.Score 0.43, Time: 00:10:38 \n",
      "Ep. 47, Ep.Timesteps 92, Score: -17.83, Avg.Score: 2.71, Run.Score 0.25, Time: 00:10:50 \n",
      "Ep. 48, Ep.Timesteps 100, Score: 93.50, Avg.Score: 4.56, Run.Score 1.18, Time: 00:11:01 \n",
      "Ep. 49, Ep.Timesteps 86, Score: -17.96, Avg.Score: 4.11, Run.Score 0.99, Time: 00:11:11 \n",
      "Ep. 50, Ep.Timesteps 89, Score: -24.19, Avg.Score: 3.56, Run.Score 0.74, Time: 00:11:22 \n",
      "Ep. 51, Ep.Timesteps 83, Score: -18.98, Avg.Score: 3.12, Run.Score 0.54, Time: 00:11:33 \n",
      "Ep. 52, Ep.Timesteps 98, Score: -18.06, Avg.Score: 2.72, Run.Score 0.36, Time: 00:11:44 \n",
      "Ep. 53, Ep.Timesteps 83, Score: -22.67, Avg.Score: 2.25, Run.Score 0.12, Time: 00:11:54 \n",
      "Ep. 54, Ep.Timesteps 94, Score: -18.04, Avg.Score: 1.88, Run.Score -0.06, Time: 00:12:05 \n",
      "Ep. 55, Ep.Timesteps 100, Score: 86.27, Avg.Score: 3.39, Run.Score 0.81, Time: 00:12:17 \n",
      "Ep. 56, Ep.Timesteps 95, Score: -21.37, Avg.Score: 2.96, Run.Score 0.58, Time: 00:12:29 \n",
      "Ep. 57, Ep.Timesteps 91, Score: -17.88, Avg.Score: 2.60, Run.Score 0.40, Time: 00:12:40 \n",
      "Ep. 58, Ep.Timesteps 100, Score: 85.82, Avg.Score: 4.01, Run.Score 1.25, Time: 00:12:52 \n",
      "Ep. 59, Ep.Timesteps 83, Score: -17.98, Avg.Score: 3.64, Run.Score 1.06, Time: 00:13:03 \n",
      "Ep. 60, Ep.Timesteps 91, Score: -23.26, Avg.Score: 3.20, Run.Score 0.82, Time: 00:13:14 \n",
      "Ep. 61, Ep.Timesteps 86, Score: -18.03, Avg.Score: 2.86, Run.Score 0.63, Time: 00:13:25 \n",
      "Ep. 62, Ep.Timesteps 100, Score: 116.94, Avg.Score: 4.67, Run.Score 1.79, Time: 00:13:36 \n",
      "Ep. 63, Ep.Timesteps 95, Score: -18.06, Avg.Score: 4.31, Run.Score 1.60, Time: 00:13:48 \n",
      "Ep. 64, Ep.Timesteps 82, Score: -18.07, Avg.Score: 3.97, Run.Score 1.40, Time: 00:13:58 \n",
      "updating\n",
      "Ep. 65, Ep.Timesteps 98, Score: -17.99, Avg.Score: 3.64, Run.Score 1.20, Time: 00:14:35 \n",
      "Ep. 66, Ep.Timesteps 77, Score: -17.98, Avg.Score: 3.31, Run.Score 1.01, Time: 00:14:45 \n",
      "Ep. 67, Ep.Timesteps 95, Score: -17.88, Avg.Score: 3.00, Run.Score 0.82, Time: 00:14:57 \n",
      "Ep. 68, Ep.Timesteps 100, Score: -13.88, Avg.Score: 2.76, Run.Score 0.68, Time: 00:15:08 \n",
      "Ep. 69, Ep.Timesteps 90, Score: -14.08, Avg.Score: 2.52, Run.Score 0.53, Time: 00:15:19 \n",
      "Ep. 70, Ep.Timesteps 53, Score: -18.08, Avg.Score: 2.23, Run.Score 0.34, Time: 00:15:26 \n",
      "Ep. 71, Ep.Timesteps 91, Score: -17.99, Avg.Score: 1.95, Run.Score 0.16, Time: 00:15:38 \n",
      "Ep. 72, Ep.Timesteps 83, Score: -19.11, Avg.Score: 1.66, Run.Score -0.03, Time: 00:15:48 \n",
      "Ep. 73, Ep.Timesteps 91, Score: -17.99, Avg.Score: 1.39, Run.Score -0.21, Time: 00:15:59 \n",
      "Ep. 74, Ep.Timesteps 98, Score: -18.05, Avg.Score: 1.13, Run.Score -0.39, Time: 00:16:11 \n",
      "Ep. 75, Ep.Timesteps 69, Score: -18.08, Avg.Score: 0.88, Run.Score -0.57, Time: 00:16:19 \n",
      "Ep. 76, Ep.Timesteps 95, Score: -18.08, Avg.Score: 0.63, Run.Score -0.74, Time: 00:16:30 \n",
      "Ep. 77, Ep.Timesteps 80, Score: -17.98, Avg.Score: 0.40, Run.Score -0.92, Time: 00:16:41 \n",
      "Ep. 78, Ep.Timesteps 100, Score: 108.20, Avg.Score: 1.76, Run.Score 0.18, Time: 00:16:53 \n",
      "Ep. 79, Ep.Timesteps 91, Score: -18.09, Avg.Score: 1.51, Run.Score -0.01, Time: 00:17:04 \n",
      "Ep. 80, Ep.Timesteps 91, Score: -13.21, Avg.Score: 1.33, Run.Score -0.14, Time: 00:17:15 \n",
      "Ep. 81, Ep.Timesteps 100, Score: 117.86, Avg.Score: 2.75, Run.Score 1.04, Time: 00:17:30 \n",
      "Ep. 82, Ep.Timesteps 97, Score: -18.07, Avg.Score: 2.50, Run.Score 0.85, Time: 00:17:42 \n",
      "Ep. 83, Ep.Timesteps 85, Score: -17.93, Avg.Score: 2.26, Run.Score 0.66, Time: 00:17:53 \n",
      "Ep. 84, Ep.Timesteps 85, Score: -17.91, Avg.Score: 2.02, Run.Score 0.48, Time: 00:18:03 \n",
      "Ep. 85, Ep.Timesteps 88, Score: -19.84, Avg.Score: 1.77, Run.Score 0.27, Time: 00:18:14 \n",
      "Ep. 86, Ep.Timesteps 86, Score: -9.69, Avg.Score: 1.63, Run.Score 0.17, Time: 00:18:24 \n",
      "updating\n",
      "Ep. 87, Ep.Timesteps 64, Score: -18.05, Avg.Score: 1.41, Run.Score -0.01, Time: 00:18:57 \n",
      "Ep. 88, Ep.Timesteps 79, Score: -17.99, Avg.Score: 1.19, Run.Score -0.19, Time: 00:19:07 \n",
      "Ep. 89, Ep.Timesteps 100, Score: 82.71, Avg.Score: 2.10, Run.Score 0.64, Time: 00:19:20 \n",
      "Ep. 90, Ep.Timesteps 100, Score: 86.96, Avg.Score: 3.03, Run.Score 1.50, Time: 00:19:33 \n",
      "Ep. 91, Ep.Timesteps 83, Score: -18.00, Avg.Score: 2.80, Run.Score 1.31, Time: 00:19:44 \n",
      "Ep. 92, Ep.Timesteps 83, Score: -18.04, Avg.Score: 2.58, Run.Score 1.12, Time: 00:19:54 \n",
      "Ep. 93, Ep.Timesteps 91, Score: -17.91, Avg.Score: 2.36, Run.Score 0.93, Time: 00:20:05 \n",
      "Ep. 94, Ep.Timesteps 88, Score: -15.77, Avg.Score: 2.17, Run.Score 0.76, Time: 00:20:15 \n",
      "Ep. 95, Ep.Timesteps 81, Score: -18.00, Avg.Score: 1.96, Run.Score 0.57, Time: 00:20:26 \n",
      "Ep. 96, Ep.Timesteps 85, Score: -18.06, Avg.Score: 1.75, Run.Score 0.38, Time: 00:20:37 \n",
      "Ep. 97, Ep.Timesteps 89, Score: -14.61, Avg.Score: 1.59, Run.Score 0.23, Time: 00:20:48 \n",
      "Ep. 98, Ep.Timesteps 89, Score: -18.09, Avg.Score: 1.39, Run.Score 0.05, Time: 00:21:00 \n",
      "Ep. 99, Ep.Timesteps 100, Score: 107.69, Avg.Score: 2.45, Run.Score 1.13, Time: 00:21:13 \n"
     ]
    },
    {
     "ename": "PermissionError",
     "evalue": "[Errno 13] Permission denied: '/model_weights_99.pth'",
     "output_type": "error",
     "traceback": [
      "\u001B[1;31m---------------------------------------------------------------------------\u001B[0m",
      "\u001B[1;31mPermissionError\u001B[0m                           Traceback (most recent call last)",
      "\u001B[1;32m<ipython-input-17-1763d34a2eec>\u001B[0m in \u001B[0;36m<module>\u001B[1;34m\u001B[0m\n\u001B[0;32m      5\u001B[0m \u001B[0mNUM_EPISODES\u001B[0m \u001B[1;33m=\u001B[0m \u001B[1;36m5000\u001B[0m\u001B[1;33m\u001B[0m\u001B[1;33m\u001B[0m\u001B[0m\n\u001B[0;32m      6\u001B[0m \u001B[1;33m\u001B[0m\u001B[0m\n\u001B[1;32m----> 7\u001B[1;33m \u001B[0mscores\u001B[0m\u001B[1;33m,\u001B[0m \u001B[0mavg_scores\u001B[0m  \u001B[1;33m=\u001B[0m \u001B[0mppo_train\u001B[0m\u001B[1;33m(\u001B[0m\u001B[0mNUM_EPISODES\u001B[0m\u001B[1;33m)\u001B[0m\u001B[1;33m\u001B[0m\u001B[1;33m\u001B[0m\u001B[0m\n\u001B[0m\u001B[0;32m      8\u001B[0m \u001B[1;31m# Save latest model. We'll use it for testing\u001B[0m\u001B[1;33m\u001B[0m\u001B[1;33m\u001B[0m\u001B[1;33m\u001B[0m\u001B[0m\n\u001B[0;32m      9\u001B[0m \u001B[0msave\u001B[0m\u001B[1;33m(\u001B[0m\u001B[0magent\u001B[0m\u001B[1;33m,\u001B[0m \u001B[1;34m'.'\u001B[0m\u001B[1;33m,\u001B[0m \u001B[1;34m'model_weights'\u001B[0m\u001B[1;33m,\u001B[0m \u001B[1;34m'latest'\u001B[0m\u001B[1;33m)\u001B[0m\u001B[1;33m\u001B[0m\u001B[1;33m\u001B[0m\u001B[0m\n",
      "\u001B[1;32m<ipython-input-16-99f0b644ceb4>\u001B[0m in \u001B[0;36mppo_train\u001B[1;34m(n_episodes, save_every)\u001B[0m\n\u001B[0;32m     60\u001B[0m \u001B[1;33m\u001B[0m\u001B[0m\n\u001B[0;32m     61\u001B[0m             \u001B[0msuf\u001B[0m \u001B[1;33m=\u001B[0m \u001B[0mstr\u001B[0m\u001B[1;33m(\u001B[0m\u001B[0mi_episode\u001B[0m\u001B[1;33m)\u001B[0m\u001B[1;33m\u001B[0m\u001B[1;33m\u001B[0m\u001B[0m\n\u001B[1;32m---> 62\u001B[1;33m             \u001B[0msave\u001B[0m\u001B[1;33m(\u001B[0m\u001B[0magent\u001B[0m\u001B[1;33m,\u001B[0m \u001B[1;34m''\u001B[0m\u001B[1;33m,\u001B[0m \u001B[1;34m'model_weights'\u001B[0m\u001B[1;33m,\u001B[0m \u001B[0msuf\u001B[0m\u001B[1;33m)\u001B[0m\u001B[1;33m\u001B[0m\u001B[1;33m\u001B[0m\u001B[0m\n\u001B[0m\u001B[0;32m     63\u001B[0m \u001B[1;33m\u001B[0m\u001B[0m\n\u001B[0;32m     64\u001B[0m         \u001B[1;32mif\u001B[0m \u001B[0mnp\u001B[0m\u001B[1;33m.\u001B[0m\u001B[0mmean\u001B[0m\u001B[1;33m(\u001B[0m\u001B[0mscores_deque\u001B[0m\u001B[1;33m)\u001B[0m \u001B[1;33m>\u001B[0m \u001B[0mreward_threshold\u001B[0m\u001B[1;33m:\u001B[0m\u001B[1;33m\u001B[0m\u001B[1;33m\u001B[0m\u001B[0m\n",
      "\u001B[1;32m<ipython-input-15-5a1b5801b2b1>\u001B[0m in \u001B[0;36msave\u001B[1;34m(agent, directory, filename, suffix)\u001B[0m\n\u001B[0;32m      1\u001B[0m \u001B[1;32mdef\u001B[0m \u001B[0msave\u001B[0m\u001B[1;33m(\u001B[0m\u001B[0magent\u001B[0m\u001B[1;33m,\u001B[0m \u001B[0mdirectory\u001B[0m\u001B[1;33m,\u001B[0m \u001B[0mfilename\u001B[0m\u001B[1;33m,\u001B[0m \u001B[0msuffix\u001B[0m\u001B[1;33m)\u001B[0m\u001B[1;33m:\u001B[0m\u001B[1;33m\u001B[0m\u001B[1;33m\u001B[0m\u001B[0m\n\u001B[1;32m----> 2\u001B[1;33m     \u001B[0mtorch\u001B[0m\u001B[1;33m.\u001B[0m\u001B[0msave\u001B[0m\u001B[1;33m(\u001B[0m\u001B[0magent\u001B[0m\u001B[1;33m.\u001B[0m\u001B[0mnet\u001B[0m\u001B[1;33m.\u001B[0m\u001B[0mstate_dict\u001B[0m\u001B[1;33m(\u001B[0m\u001B[1;33m)\u001B[0m\u001B[1;33m,\u001B[0m \u001B[1;34m'%s/%s_%s.pth'\u001B[0m \u001B[1;33m%\u001B[0m \u001B[1;33m(\u001B[0m\u001B[0mdirectory\u001B[0m\u001B[1;33m,\u001B[0m \u001B[0mfilename\u001B[0m\u001B[1;33m,\u001B[0m \u001B[0msuffix\u001B[0m\u001B[1;33m)\u001B[0m\u001B[1;33m)\u001B[0m\u001B[1;33m\u001B[0m\u001B[1;33m\u001B[0m\u001B[0m\n\u001B[0m\u001B[0;32m      3\u001B[0m \u001B[1;33m\u001B[0m\u001B[0m\n",
      "\u001B[1;32m~\\.conda\\envs\\myenv\\lib\\site-packages\\torch\\serialization.py\u001B[0m in \u001B[0;36msave\u001B[1;34m(obj, f, pickle_module, pickle_protocol, _use_new_zipfile_serialization)\u001B[0m\n\u001B[0;32m    325\u001B[0m             \u001B[1;32mreturn\u001B[0m\u001B[1;33m\u001B[0m\u001B[1;33m\u001B[0m\u001B[0m\n\u001B[0;32m    326\u001B[0m \u001B[1;33m\u001B[0m\u001B[0m\n\u001B[1;32m--> 327\u001B[1;33m     \u001B[1;32mwith\u001B[0m \u001B[0m_open_file_like\u001B[0m\u001B[1;33m(\u001B[0m\u001B[0mf\u001B[0m\u001B[1;33m,\u001B[0m \u001B[1;34m'wb'\u001B[0m\u001B[1;33m)\u001B[0m \u001B[1;32mas\u001B[0m \u001B[0mopened_file\u001B[0m\u001B[1;33m:\u001B[0m\u001B[1;33m\u001B[0m\u001B[1;33m\u001B[0m\u001B[0m\n\u001B[0m\u001B[0;32m    328\u001B[0m         \u001B[0m_legacy_save\u001B[0m\u001B[1;33m(\u001B[0m\u001B[0mobj\u001B[0m\u001B[1;33m,\u001B[0m \u001B[0mopened_file\u001B[0m\u001B[1;33m,\u001B[0m \u001B[0mpickle_module\u001B[0m\u001B[1;33m,\u001B[0m \u001B[0mpickle_protocol\u001B[0m\u001B[1;33m)\u001B[0m\u001B[1;33m\u001B[0m\u001B[1;33m\u001B[0m\u001B[0m\n\u001B[0;32m    329\u001B[0m \u001B[1;33m\u001B[0m\u001B[0m\n",
      "\u001B[1;32m~\\.conda\\envs\\myenv\\lib\\site-packages\\torch\\serialization.py\u001B[0m in \u001B[0;36m_open_file_like\u001B[1;34m(name_or_buffer, mode)\u001B[0m\n\u001B[0;32m    210\u001B[0m \u001B[1;32mdef\u001B[0m \u001B[0m_open_file_like\u001B[0m\u001B[1;33m(\u001B[0m\u001B[0mname_or_buffer\u001B[0m\u001B[1;33m,\u001B[0m \u001B[0mmode\u001B[0m\u001B[1;33m)\u001B[0m\u001B[1;33m:\u001B[0m\u001B[1;33m\u001B[0m\u001B[1;33m\u001B[0m\u001B[0m\n\u001B[0;32m    211\u001B[0m     \u001B[1;32mif\u001B[0m \u001B[0m_is_path\u001B[0m\u001B[1;33m(\u001B[0m\u001B[0mname_or_buffer\u001B[0m\u001B[1;33m)\u001B[0m\u001B[1;33m:\u001B[0m\u001B[1;33m\u001B[0m\u001B[1;33m\u001B[0m\u001B[0m\n\u001B[1;32m--> 212\u001B[1;33m         \u001B[1;32mreturn\u001B[0m \u001B[0m_open_file\u001B[0m\u001B[1;33m(\u001B[0m\u001B[0mname_or_buffer\u001B[0m\u001B[1;33m,\u001B[0m \u001B[0mmode\u001B[0m\u001B[1;33m)\u001B[0m\u001B[1;33m\u001B[0m\u001B[1;33m\u001B[0m\u001B[0m\n\u001B[0m\u001B[0;32m    213\u001B[0m     \u001B[1;32melse\u001B[0m\u001B[1;33m:\u001B[0m\u001B[1;33m\u001B[0m\u001B[1;33m\u001B[0m\u001B[0m\n\u001B[0;32m    214\u001B[0m         \u001B[1;32mif\u001B[0m \u001B[1;34m'w'\u001B[0m \u001B[1;32min\u001B[0m \u001B[0mmode\u001B[0m\u001B[1;33m:\u001B[0m\u001B[1;33m\u001B[0m\u001B[1;33m\u001B[0m\u001B[0m\n",
      "\u001B[1;32m~\\.conda\\envs\\myenv\\lib\\site-packages\\torch\\serialization.py\u001B[0m in \u001B[0;36m__init__\u001B[1;34m(self, name, mode)\u001B[0m\n\u001B[0;32m    191\u001B[0m \u001B[1;32mclass\u001B[0m \u001B[0m_open_file\u001B[0m\u001B[1;33m(\u001B[0m\u001B[0m_opener\u001B[0m\u001B[1;33m)\u001B[0m\u001B[1;33m:\u001B[0m\u001B[1;33m\u001B[0m\u001B[1;33m\u001B[0m\u001B[0m\n\u001B[0;32m    192\u001B[0m     \u001B[1;32mdef\u001B[0m \u001B[0m__init__\u001B[0m\u001B[1;33m(\u001B[0m\u001B[0mself\u001B[0m\u001B[1;33m,\u001B[0m \u001B[0mname\u001B[0m\u001B[1;33m,\u001B[0m \u001B[0mmode\u001B[0m\u001B[1;33m)\u001B[0m\u001B[1;33m:\u001B[0m\u001B[1;33m\u001B[0m\u001B[1;33m\u001B[0m\u001B[0m\n\u001B[1;32m--> 193\u001B[1;33m         \u001B[0msuper\u001B[0m\u001B[1;33m(\u001B[0m\u001B[0m_open_file\u001B[0m\u001B[1;33m,\u001B[0m \u001B[0mself\u001B[0m\u001B[1;33m)\u001B[0m\u001B[1;33m.\u001B[0m\u001B[0m__init__\u001B[0m\u001B[1;33m(\u001B[0m\u001B[0mopen\u001B[0m\u001B[1;33m(\u001B[0m\u001B[0mname\u001B[0m\u001B[1;33m,\u001B[0m \u001B[0mmode\u001B[0m\u001B[1;33m)\u001B[0m\u001B[1;33m)\u001B[0m\u001B[1;33m\u001B[0m\u001B[1;33m\u001B[0m\u001B[0m\n\u001B[0m\u001B[0;32m    194\u001B[0m \u001B[1;33m\u001B[0m\u001B[0m\n\u001B[0;32m    195\u001B[0m     \u001B[1;32mdef\u001B[0m \u001B[0m__exit__\u001B[0m\u001B[1;33m(\u001B[0m\u001B[0mself\u001B[0m\u001B[1;33m,\u001B[0m \u001B[1;33m*\u001B[0m\u001B[0margs\u001B[0m\u001B[1;33m)\u001B[0m\u001B[1;33m:\u001B[0m\u001B[1;33m\u001B[0m\u001B[1;33m\u001B[0m\u001B[0m\n",
      "\u001B[1;31mPermissionError\u001B[0m: [Errno 13] Permission denied: '/model_weights_99.pth'"
     ]
    }
   ],
   "source": [
    "agent = Agent(device)\n",
    "\n",
    "env_wrap = Wrapper(env)\n",
    "\n",
    "NUM_EPISODES = 5000\n",
    "\n",
    "scores, avg_scores  = ppo_train(NUM_EPISODES)\n",
    "# Save latest model. We'll use it for testing\n",
    "save(agent, '.', 'model_weights', 'latest')"
   ]
  },
  {
   "cell_type": "code",
   "execution_count": null,
   "metadata": {},
   "outputs": [],
   "source": [
    "%matplotlib inline\n",
    "\n",
    "print('length of scores: ', len(scores), ', len of avg_scores: ', len(avg_scores))\n",
    "\n",
    "fig = plt.figure()\n",
    "ax = fig.add_subplot(111)\n",
    "plt.plot(np.arange(1, len(scores)+1), scores, label=\"Score\")\n",
    "plt.plot(np.arange(1, len(avg_scores)+1), avg_scores, label=\"Avg on 100 episodes\")\n",
    "plt.legend(bbox_to_anchor=(1.05, 1)) \n",
    "plt.ylabel('Score')\n",
    "plt.xlabel('Episodes #')\n",
    "plt.show()"
   ]
  },
  {
   "cell_type": "code",
   "execution_count": null,
   "metadata": {},
   "outputs": [],
   "source": [
    "def load(agent, directory, filename):\n",
    "    agent.net.load_state_dict(torch.load(os.path.join(directory,filename)))"
   ]
  },
  {
   "cell_type": "code",
   "execution_count": null,
   "metadata": {},
   "outputs": [],
   "source": [
    "def play(env, agent, n_episodes):\n",
    "    state = env_wrap.reset()\n",
    "    \n",
    "    scores_deque = deque(maxlen=n_episodes)\n",
    "    scores = []\n",
    "    \n",
    "    for i_episode in range(1, n_episodes+1):\n",
    "        state = env_wrap.reset()        \n",
    "        score = 0\n",
    "        \n",
    "        time_start = time.time()\n",
    "        \n",
    "        while True:\n",
    "            action, a_logp = agent.select_action(state)\n",
    "            env.render()\n",
    "            next_state, reward, done, die = env_wrap.step( \\\n",
    "                action * np.array([2., 1., 1.]) + np.array([-1., 0., 0.]))\n",
    "\n",
    "            state = next_state\n",
    "            score += reward\n",
    "            \n",
    "            if done or die:\n",
    "                break \n",
    "\n",
    "        s = (int)(time.time() - time_start)\n",
    "        \n",
    "        scores_deque.append(score)\n",
    "        scores.append(score)\n",
    "\n",
    "        print('Episode {}\\tAverage Score: {:.2f},\\tScore: {:.2f} \\tTime: {:02}:{:02}:{:02}'\\\n",
    "                  .format(i_episode, np.mean(scores_deque), score, s//3600, s%3600//60, s%60))\n",
    "    return np.mean(scores_deque)"
   ]
  },
  {
   "cell_type": "code",
   "execution_count": null,
   "metadata": {},
   "outputs": [],
   "source": [
    "# We use the average score of 10 episodes as result, Don't change n_episodes!!!\n",
    "total_avg_reward = play(env, agent, n_episodes=10)"
   ]
  },
  {
   "cell_type": "code",
   "execution_count": null,
   "metadata": {},
   "outputs": [],
   "source": [
    "# Print results in CSV format and upload to Kaggle\n",
    "with open('rewards.csv', 'w') as f:\n",
    "    f.write('Id,Predicted\\n')\n",
    "    f.write('CarRacing_public,{}\\n'.format(total_avg_reward))\n",
    "    f.write('CarRacing_private,{}\\n'.format(total_avg_reward))\n",
    "\n",
    "# Download your results!\n",
    "from IPython.display import FileLink\n",
    "FileLink('rewards.csv')"
   ]
  },
  {
   "cell_type": "markdown",
   "metadata": {},
   "source": [
    "## Show Your Training Result"
   ]
  },
  {
   "cell_type": "code",
   "execution_count": null,
   "metadata": {},
   "outputs": [],
   "source": [
    "import os\n",
    "env_test = Monitor(gym.make(\"CarRacing-v0\"), './video', force=True)\n",
    "env_test.reset()\n",
    "env_wrap = Wrapper(env_test)\n",
    "load(agent, '', 'model_weights_latest.pth')\n",
    "play(env_test, agent, n_episodes=1)\n",
    "while True:\n",
    "    env_test.render()\n",
    "    action = env_test.action_space.sample() \n",
    "    observation, reward, done, info = env_test.step(action)         \n",
    "    if done: \n",
    "      break;\n",
    "env_test.close()\n",
    "show_video()"
   ]
  },
  {
   "cell_type": "code",
   "execution_count": null,
   "metadata": {},
   "outputs": [],
   "source": []
  }
 ],
 "metadata": {
  "kernelspec": {
   "display_name": "Python 3.7.7 64-bit ('myenv': conda)",
   "language": "python",
   "name": "python37764bitmyenvconda480bcca2f5ec4e478c074c2f0a79fbe4"
  },
  "language_info": {
   "codemirror_mode": {
    "name": "ipython",
    "version": 3
   },
   "file_extension": ".py",
   "mimetype": "text/x-python",
   "name": "python",
   "nbconvert_exporter": "python",
   "pygments_lexer": "ipython3",
   "version": "3.7.7"
  }
 },
 "nbformat": 4,
 "nbformat_minor": 4
}