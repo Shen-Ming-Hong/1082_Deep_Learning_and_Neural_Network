{
 "cells": [
  {
   "cell_type": "code",
   "execution_count": 11,
   "metadata": {
    "collapsed": true
   },
   "outputs": [],
   "source": [
    "import os\n",
    "import random\n",
    "\n",
    "import gym\n",
    "import numpy as np"
   ]
  },
  {
   "cell_type": "code",
   "execution_count": 12,
   "outputs": [
    {
     "name": "stdout",
     "output_type": "stream",
     "text": [
      "\n",
      "\u001B[41mS\u001B[0mFFFFFFF\n",
      "FFFFFFFF\n",
      "FFFHFFFF\n",
      "FFFFFHFF\n",
      "FFFHFFFF\n",
      "FHHFFFHF\n",
      "FHFFHFHF\n",
      "FFFHFFFG\n",
      "Episode 0, steps 21, total reward 0.0\n",
      "Episode 10000000, steps 38, total reward 0.0\n",
      "Episode 20000000, steps 114, total reward 0.0\n",
      "Episode 30000000, steps 102, total reward 0.0\n"
     ]
    },
    {
     "ename": "KeyboardInterrupt",
     "evalue": "",
     "output_type": "error",
     "traceback": [
      "\u001B[1;31m---------------------------------------------------------------------------\u001B[0m",
      "\u001B[1;31mKeyboardInterrupt\u001B[0m                         Traceback (most recent call last)",
      "\u001B[1;32m<ipython-input-12-dbf76b0bc959>\u001B[0m in \u001B[0;36m<module>\u001B[1;34m\u001B[0m\n\u001B[0;32m     34\u001B[0m \u001B[1;33m\u001B[0m\u001B[0m\n\u001B[0;32m     35\u001B[0m             \u001B[1;31m# Update Q table\u001B[0m\u001B[1;33m\u001B[0m\u001B[1;33m\u001B[0m\u001B[1;33m\u001B[0m\u001B[0m\n\u001B[1;32m---> 36\u001B[1;33m             \u001B[0mq_table\u001B[0m\u001B[1;33m[\u001B[0m\u001B[0mstate\u001B[0m\u001B[1;33m,\u001B[0m \u001B[0maction\u001B[0m\u001B[1;33m]\u001B[0m \u001B[1;33m=\u001B[0m \u001B[0mq_table\u001B[0m\u001B[1;33m[\u001B[0m\u001B[0mstate\u001B[0m\u001B[1;33m,\u001B[0m \u001B[0maction\u001B[0m\u001B[1;33m]\u001B[0m \u001B[1;33m+\u001B[0m \u001B[0malpha\u001B[0m\u001B[1;33m*\u001B[0m\u001B[1;33m(\u001B[0m\u001B[0mreward\u001B[0m \u001B[1;33m+\u001B[0m \u001B[0mgamma\u001B[0m\u001B[1;33m*\u001B[0m\u001B[0mnp\u001B[0m\u001B[1;33m.\u001B[0m\u001B[0mmax\u001B[0m\u001B[1;33m(\u001B[0m\u001B[0mq_table\u001B[0m\u001B[1;33m[\u001B[0m\u001B[0mnext_state\u001B[0m\u001B[1;33m,\u001B[0m \u001B[1;33m:\u001B[0m\u001B[1;33m]\u001B[0m\u001B[1;33m)\u001B[0m \u001B[1;33m-\u001B[0m \u001B[0mq_table\u001B[0m\u001B[1;33m[\u001B[0m\u001B[0mstate\u001B[0m\u001B[1;33m,\u001B[0m \u001B[0maction\u001B[0m\u001B[1;33m]\u001B[0m\u001B[1;33m)\u001B[0m\u001B[1;33m\u001B[0m\u001B[1;33m\u001B[0m\u001B[0m\n\u001B[0m\u001B[0;32m     37\u001B[0m             \u001B[0mstate\u001B[0m \u001B[1;33m=\u001B[0m \u001B[0mnext_state\u001B[0m\u001B[1;33m\u001B[0m\u001B[1;33m\u001B[0m\u001B[0m\n\u001B[0;32m     38\u001B[0m \u001B[1;33m\u001B[0m\u001B[0m\n",
      "\u001B[1;32m<__array_function__ internals>\u001B[0m in \u001B[0;36mamax\u001B[1;34m(*args, **kwargs)\u001B[0m\n",
      "\u001B[1;32m~\\.conda\\envs\\myenv\\lib\\site-packages\\numpy\\core\\fromnumeric.py\u001B[0m in \u001B[0;36mamax\u001B[1;34m(a, axis, out, keepdims, initial, where)\u001B[0m\n\u001B[0;32m   2666\u001B[0m     \"\"\"\n\u001B[0;32m   2667\u001B[0m     return _wrapreduction(a, np.maximum, 'max', axis, None, out,\n\u001B[1;32m-> 2668\u001B[1;33m                           keepdims=keepdims, initial=initial, where=where)\n\u001B[0m\u001B[0;32m   2669\u001B[0m \u001B[1;33m\u001B[0m\u001B[0m\n\u001B[0;32m   2670\u001B[0m \u001B[1;33m\u001B[0m\u001B[0m\n",
      "\u001B[1;32m~\\.conda\\envs\\myenv\\lib\\site-packages\\numpy\\core\\fromnumeric.py\u001B[0m in \u001B[0;36m_wrapreduction\u001B[1;34m(obj, ufunc, method, axis, dtype, out, **kwargs)\u001B[0m\n\u001B[0;32m     88\u001B[0m                 \u001B[1;32mreturn\u001B[0m \u001B[0mreduction\u001B[0m\u001B[1;33m(\u001B[0m\u001B[0maxis\u001B[0m\u001B[1;33m=\u001B[0m\u001B[0maxis\u001B[0m\u001B[1;33m,\u001B[0m \u001B[0mout\u001B[0m\u001B[1;33m=\u001B[0m\u001B[0mout\u001B[0m\u001B[1;33m,\u001B[0m \u001B[1;33m**\u001B[0m\u001B[0mpasskwargs\u001B[0m\u001B[1;33m)\u001B[0m\u001B[1;33m\u001B[0m\u001B[1;33m\u001B[0m\u001B[0m\n\u001B[0;32m     89\u001B[0m \u001B[1;33m\u001B[0m\u001B[0m\n\u001B[1;32m---> 90\u001B[1;33m     \u001B[1;32mreturn\u001B[0m \u001B[0mufunc\u001B[0m\u001B[1;33m.\u001B[0m\u001B[0mreduce\u001B[0m\u001B[1;33m(\u001B[0m\u001B[0mobj\u001B[0m\u001B[1;33m,\u001B[0m \u001B[0maxis\u001B[0m\u001B[1;33m,\u001B[0m \u001B[0mdtype\u001B[0m\u001B[1;33m,\u001B[0m \u001B[0mout\u001B[0m\u001B[1;33m,\u001B[0m \u001B[1;33m**\u001B[0m\u001B[0mpasskwargs\u001B[0m\u001B[1;33m)\u001B[0m\u001B[1;33m\u001B[0m\u001B[1;33m\u001B[0m\u001B[0m\n\u001B[0m\u001B[0;32m     91\u001B[0m \u001B[1;33m\u001B[0m\u001B[0m\n\u001B[0;32m     92\u001B[0m \u001B[1;33m\u001B[0m\u001B[0m\n",
      "\u001B[1;31mKeyboardInterrupt\u001B[0m: "
     ]
    }
   ],
   "source": [
    "for l in range (1):\n",
    "    env = gym.make(\"FrozenLake8x8-v0\")\n",
    "    env.reset()\n",
    "    env.render()\n",
    "    \n",
    "    actions = env.action_space.n\n",
    "    states = env.observation_space.n\n",
    "    eposides = 100000000 #eposides = 100000\n",
    "    epsilon = 0.99 #epsilon = 0.8\n",
    "    gamma = 0.99 #gamma = 0.9\n",
    "    alpha = 0.005 #alpha = 0.01\n",
    "    filename = 'rewards_%s_%s_%s_%s' %(eposides, epsilon, gamma, alpha)\n",
    "    outputDir = './output'\n",
    "    \n",
    "    # Create Q table with all rewards = 0\n",
    "    q_table = np.zeros((states, actions))\n",
    "    \n",
    "    # Training\n",
    "    for i in range(eposides):\n",
    "        env.reset()\n",
    "        done = False\n",
    "        state = 0\n",
    "        steps = 0\n",
    "        total_reward = 0\n",
    "        while not done:\n",
    "            # epsilon-greedy\n",
    "            if random.random() < epsilon:\n",
    "                action = env.action_space.sample() # Explore\n",
    "            else:\n",
    "                action = np.argmax(q_table[state,:]) # Exploit\n",
    "    \n",
    "            # Move one step\n",
    "            next_state, reward, done, _ = env.step(action)\n",
    "    \n",
    "            # Update Q table\n",
    "            q_table[state, action] = q_table[state, action] + alpha*(reward + gamma*np.max(q_table[next_state, :]) - q_table[state, action])\n",
    "            state = next_state\n",
    "    \n",
    "            # Update statistics\n",
    "            steps = steps + 1\n",
    "            total_reward = total_reward + reward\n",
    "            #if(reward==1):\n",
    "                #print(\"Episode {}, steps {}, reward {}\".format(i, steps, reward))\n",
    "        if(i%(eposides/10)==0):\n",
    "            print(\"Episode {}, steps {}, total reward {}\".format(i, steps, total_reward))\n",
    "    \n",
    "    # Testing: Calculating the average reward of 1000 eposides\n",
    "    test_episodes = 1000 # DON'T CHANGE THIS VALUE\n",
    "    steps = 0\n",
    "    total_reward = 0\n",
    "    for i in range(test_episodes):\n",
    "        env.reset()\n",
    "        done = False\n",
    "        while not done:\n",
    "            action = np.argmax(q_table[state,:])\n",
    "            next_state, reward, done, _ = env.step(action)\n",
    "            state = next_state\n",
    "            steps = steps + 1\n",
    "            total_reward = total_reward + reward\n",
    "    \n",
    "    print(\"The average results of {} episodes are steps {}, reward {}\".format(test_episodes, steps/test_episodes, total_reward/test_episodes))\n",
    "\n",
    "    filename = str(total_reward) + '_' + filename + '.csv'\n",
    "    total_avg_reward = total_reward/test_episodes\n",
    "    # Print results in CSV format and upload to Kaggle\n",
    "    if not os.path.exists(outputDir):\n",
    "        os.mkdir(outputDir)\n",
    "    with open('./output/%s' %filename, 'w') as f:\n",
    "        f.write('Id,Predicted\\n')\n",
    "        f.write('FrozenLake8x8_public,{}\\n'.format(total_avg_reward))\n",
    "        f.write('FrozenLake8x8_private,{}\\n'.format(total_avg_reward))\n",
    "\n",
    "    # Download your results!\n",
    "    from IPython.display import FileLink\n",
    "    FileLink(filename)"
   ],
   "metadata": {
    "collapsed": false,
    "pycharm": {
     "name": "#%%\n"
    }
   }
  }
 ],
 "metadata": {
  "kernelspec": {
   "name": "python37764bitmyenvconda480bcca2f5ec4e478c074c2f0a79fbe4",
   "language": "python",
   "display_name": "Python 3.7.7 64-bit ('myenv': conda)"
  },
  "language_info": {
   "codemirror_mode": {
    "name": "ipython",
    "version": 2
   },
   "file_extension": ".py",
   "mimetype": "text/x-python",
   "name": "python",
   "nbconvert_exporter": "python",
   "pygments_lexer": "ipython2",
   "version": "2.7.6"
  }
 },
 "nbformat": 4,
 "nbformat_minor": 0
}